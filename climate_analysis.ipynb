{
 "cells": [
  {
   "cell_type": "code",
   "execution_count": 1,
   "id": "8d1f7ef3-6c83-4c3b-aae9-82e63f8ec2e6",
   "metadata": {},
   "outputs": [],
   "source": [
    "%matplotlib inline\n",
    "from matplotlib import style\n",
    "style.use('fivethirtyeight')\n",
    "import matplotlib.pyplot as plt"
   ]
  },
  {
   "cell_type": "code",
   "execution_count": 2,
   "id": "538b4ca5-e4f1-4ba9-8a00-77aa979776ca",
   "metadata": {},
   "outputs": [],
   "source": [
    "import numpy as np\n",
    "import pandas as pd\n",
    "import datetime as dt"
   ]
  },
  {
   "cell_type": "code",
   "execution_count": 3,
   "id": "78382679-4ba0-4958-9fba-6b0a3ffca57f",
   "metadata": {},
   "outputs": [],
   "source": [
    "import sqlalchemy\n",
    "from sqlalchemy.ext.automap import automap_base\n",
    "from sqlalchemy.orm import Session\n",
    "from sqlalchemy import create_engine, func, inspect"
   ]
  },
  {
   "cell_type": "code",
   "execution_count": 4,
   "id": "6dff0754-1592-4631-9e05-ba3503a5c363",
   "metadata": {},
   "outputs": [],
   "source": [
    "# create engine to hawaii.sqlite\n",
    "path = '/Users/anthonygarcia/Desktop/hawaii.sqlite'\n",
    "engine = create_engine(f\"sqlite:///{path}\")"
   ]
  },
  {
   "cell_type": "code",
   "execution_count": 5,
   "id": "f969646e-7329-42cb-bfe3-afa47e576afb",
   "metadata": {},
   "outputs": [],
   "source": [
    "#delcare a base\n",
    "Base = automap_base()"
   ]
  },
  {
   "cell_type": "code",
   "execution_count": 6,
   "id": "6777ed9e-99e0-445b-94af-fea36df77897",
   "metadata": {},
   "outputs": [],
   "source": [
    "#reflect the database tables\n",
    "Base.prepare(engine, reflect=True)"
   ]
  },
  {
   "cell_type": "code",
   "execution_count": 7,
   "id": "e5b3b6bd-e75b-49fe-836e-7feab1f71b87",
   "metadata": {},
   "outputs": [
    {
     "data": {
      "text/plain": [
       "['measurement', 'station']"
      ]
     },
     "execution_count": 7,
     "metadata": {},
     "output_type": "execute_result"
    }
   ],
   "source": [
    "#print all the classes connected to the base\n",
    "Base.classes.keys()"
   ]
  },
  {
   "cell_type": "code",
   "execution_count": 8,
   "id": "e15d05ea-1c38-4a43-b261-797c53f17185",
   "metadata": {},
   "outputs": [],
   "source": [
    "#assign measurement to variable\n",
    "measure = Base.classes.measurement"
   ]
  },
  {
   "cell_type": "code",
   "execution_count": 9,
   "id": "a82ee4a2-8d10-453d-ae33-75913feda9db",
   "metadata": {},
   "outputs": [],
   "source": [
    "#assign station class to variable\n",
    "station = Base.classes.station"
   ]
  },
  {
   "cell_type": "code",
   "execution_count": 10,
   "id": "1792d837-d1e2-4f39-95af-e068f2414d1d",
   "metadata": {},
   "outputs": [],
   "source": [
    "#create a session\n",
    "session = Session(engine)"
   ]
  },
  {
   "cell_type": "code",
   "execution_count": 11,
   "id": "bc4de36c-e3e1-4584-abc9-82317614210e",
   "metadata": {},
   "outputs": [
    {
     "data": {
      "text/html": [
       "<div>\n",
       "<style scoped>\n",
       "    .dataframe tbody tr th:only-of-type {\n",
       "        vertical-align: middle;\n",
       "    }\n",
       "\n",
       "    .dataframe tbody tr th {\n",
       "        vertical-align: top;\n",
       "    }\n",
       "\n",
       "    .dataframe thead th {\n",
       "        text-align: right;\n",
       "    }\n",
       "</style>\n",
       "<table border=\"1\" class=\"dataframe\">\n",
       "  <thead>\n",
       "    <tr style=\"text-align: right;\">\n",
       "      <th></th>\n",
       "      <th>id</th>\n",
       "      <th>station</th>\n",
       "      <th>date</th>\n",
       "      <th>prcp</th>\n",
       "      <th>tobs</th>\n",
       "    </tr>\n",
       "  </thead>\n",
       "  <tbody>\n",
       "    <tr>\n",
       "      <th>0</th>\n",
       "      <td>1</td>\n",
       "      <td>USC00519397</td>\n",
       "      <td>2010-01-01</td>\n",
       "      <td>0.08</td>\n",
       "      <td>65.0</td>\n",
       "    </tr>\n",
       "    <tr>\n",
       "      <th>1</th>\n",
       "      <td>2</td>\n",
       "      <td>USC00519397</td>\n",
       "      <td>2010-01-02</td>\n",
       "      <td>0.00</td>\n",
       "      <td>63.0</td>\n",
       "    </tr>\n",
       "    <tr>\n",
       "      <th>2</th>\n",
       "      <td>3</td>\n",
       "      <td>USC00519397</td>\n",
       "      <td>2010-01-03</td>\n",
       "      <td>0.00</td>\n",
       "      <td>74.0</td>\n",
       "    </tr>\n",
       "    <tr>\n",
       "      <th>3</th>\n",
       "      <td>4</td>\n",
       "      <td>USC00519397</td>\n",
       "      <td>2010-01-04</td>\n",
       "      <td>0.00</td>\n",
       "      <td>76.0</td>\n",
       "    </tr>\n",
       "    <tr>\n",
       "      <th>4</th>\n",
       "      <td>5</td>\n",
       "      <td>USC00519397</td>\n",
       "      <td>2010-01-06</td>\n",
       "      <td>NaN</td>\n",
       "      <td>73.0</td>\n",
       "    </tr>\n",
       "    <tr>\n",
       "      <th>...</th>\n",
       "      <td>...</td>\n",
       "      <td>...</td>\n",
       "      <td>...</td>\n",
       "      <td>...</td>\n",
       "      <td>...</td>\n",
       "    </tr>\n",
       "    <tr>\n",
       "      <th>19545</th>\n",
       "      <td>19546</td>\n",
       "      <td>USC00516128</td>\n",
       "      <td>2017-08-19</td>\n",
       "      <td>0.09</td>\n",
       "      <td>71.0</td>\n",
       "    </tr>\n",
       "    <tr>\n",
       "      <th>19546</th>\n",
       "      <td>19547</td>\n",
       "      <td>USC00516128</td>\n",
       "      <td>2017-08-20</td>\n",
       "      <td>NaN</td>\n",
       "      <td>78.0</td>\n",
       "    </tr>\n",
       "    <tr>\n",
       "      <th>19547</th>\n",
       "      <td>19548</td>\n",
       "      <td>USC00516128</td>\n",
       "      <td>2017-08-21</td>\n",
       "      <td>0.56</td>\n",
       "      <td>76.0</td>\n",
       "    </tr>\n",
       "    <tr>\n",
       "      <th>19548</th>\n",
       "      <td>19549</td>\n",
       "      <td>USC00516128</td>\n",
       "      <td>2017-08-22</td>\n",
       "      <td>0.50</td>\n",
       "      <td>76.0</td>\n",
       "    </tr>\n",
       "    <tr>\n",
       "      <th>19549</th>\n",
       "      <td>19550</td>\n",
       "      <td>USC00516128</td>\n",
       "      <td>2017-08-23</td>\n",
       "      <td>0.45</td>\n",
       "      <td>76.0</td>\n",
       "    </tr>\n",
       "  </tbody>\n",
       "</table>\n",
       "<p>19550 rows × 5 columns</p>\n",
       "</div>"
      ],
      "text/plain": [
       "          id      station        date  prcp  tobs\n",
       "0          1  USC00519397  2010-01-01  0.08  65.0\n",
       "1          2  USC00519397  2010-01-02  0.00  63.0\n",
       "2          3  USC00519397  2010-01-03  0.00  74.0\n",
       "3          4  USC00519397  2010-01-04  0.00  76.0\n",
       "4          5  USC00519397  2010-01-06   NaN  73.0\n",
       "...      ...          ...         ...   ...   ...\n",
       "19545  19546  USC00516128  2017-08-19  0.09  71.0\n",
       "19546  19547  USC00516128  2017-08-20   NaN  78.0\n",
       "19547  19548  USC00516128  2017-08-21  0.56  76.0\n",
       "19548  19549  USC00516128  2017-08-22  0.50  76.0\n",
       "19549  19550  USC00516128  2017-08-23  0.45  76.0\n",
       "\n",
       "[19550 rows x 5 columns]"
      ]
     },
     "execution_count": 11,
     "metadata": {},
     "output_type": "execute_result"
    }
   ],
   "source": [
    "#print measurement table in a DF\n",
    "conn = engine.connect()\n",
    "df = pd.read_sql(\"SELECT * FROM measurement\",conn)\n",
    "df"
   ]
  },
  {
   "cell_type": "code",
   "execution_count": 12,
   "id": "f85ac5b0-e5b4-4db4-988a-2d0db90056c2",
   "metadata": {},
   "outputs": [
    {
     "data": {
      "text/plain": [
       "('2017-08-23',)"
      ]
     },
     "execution_count": 12,
     "metadata": {},
     "output_type": "execute_result"
    }
   ],
   "source": [
    "# the most recent date in dataset\n",
    "date = session.query(measure.date).order_by(measure.date.desc()).first()\n",
    "date"
   ]
  },
  {
   "cell_type": "code",
   "execution_count": null,
   "id": "e3b03040-cc42-4264-a9d7-fc009fab3cdd",
   "metadata": {},
   "outputs": [],
   "source": [
    "# retrieve the previous 12 months of precipitation data, use only data and prcp\n",
    "qry = session.query(measure.date,measure.prcp).filter(measure.date >= '2016-09-01').group_by(measure.date).all()\n",
    "qry"
   ]
  },
  {
   "cell_type": "code",
   "execution_count": 14,
   "id": "4fafb872-d977-4575-b9d6-6d5db8ad6c73",
   "metadata": {},
   "outputs": [],
   "source": [
    "#load data into a pandas dataframe\n",
    "data = pd.DataFrame(qry)\n"
   ]
  },
  {
   "cell_type": "code",
   "execution_count": 15,
   "id": "824040c7-abf3-4105-9e98-6c49d3c54fd5",
   "metadata": {},
   "outputs": [],
   "source": [
    "#rename columns\n",
    "rename = data.rename(columns = {0:'Date',1:'Prcp'})"
   ]
  },
  {
   "cell_type": "code",
   "execution_count": 16,
   "id": "0c3626f3-6137-4156-847e-539f8aa800d4",
   "metadata": {},
   "outputs": [],
   "source": [
    "#sort DF values by date\n",
    "sort = rename.sort_values('Date',ascending=True)\n"
   ]
  },
  {
   "cell_type": "code",
   "execution_count": 17,
   "id": "28442230-ca89-4e74-9f86-04adcca9964e",
   "metadata": {},
   "outputs": [
    {
     "data": {
      "image/png": "[encoded data removed]",
      "text/plain": [
       "<Figure size 1080x720 with 1 Axes>"
      ]
     },
     "metadata": {},
     "output_type": "display_data"
    }
   ],
   "source": [
    "#plot the results using the plot method\n",
    "months = sort['Date']\n",
    "rain = sort['Prcp']\n",
    "\n",
    "plt.plot(months,rain,label='Precipitation')\n",
    "\n",
    "plt.fill_between(months,rain)\n",
    "plt.xticks(['2016-09-01','2016-10-01','2016-11-01','2016-12-01','2017-01-01','2017-02-01','2017-03-01','2017-04-01','2017-05-01','2017-06-01','2017-07-01','2017-08-01'])\n",
    "plt.xticks(fontsize=11,rotation=90)\n",
    "plt.legend()\n",
    "plt.xlabel('Date', fontsize=15, labelpad=35)\n",
    "plt.ylabel('Inches', fontsize=15, labelpad=35)\n",
    "plt.title('Amount of rain per month', fontsize=25, loc='center', fontweight='bold')\n",
    "plt.ylim(0.0,2.70)\n",
    "fig = plt.gcf()\n",
    "fig.set_size_inches(15,10)\n",
    "\n",
    "plt.show() "
   ]
  },
  {
   "cell_type": "code",
   "execution_count": 18,
   "id": "4423277f-3f83-4ead-acf4-7270f6ed0965",
   "metadata": {},
   "outputs": [
    {
     "data": {
      "text/html": [
       "<div>\n",
       "<style scoped>\n",
       "    .dataframe tbody tr th:only-of-type {\n",
       "        vertical-align: middle;\n",
       "    }\n",
       "\n",
       "    .dataframe tbody tr th {\n",
       "        vertical-align: top;\n",
       "    }\n",
       "\n",
       "    .dataframe thead th {\n",
       "        text-align: right;\n",
       "    }\n",
       "</style>\n",
       "<table border=\"1\" class=\"dataframe\">\n",
       "  <thead>\n",
       "    <tr style=\"text-align: right;\">\n",
       "      <th></th>\n",
       "      <th>Prcp</th>\n",
       "    </tr>\n",
       "  </thead>\n",
       "  <tbody>\n",
       "    <tr>\n",
       "      <th>count</th>\n",
       "      <td>355.000000</td>\n",
       "    </tr>\n",
       "    <tr>\n",
       "      <th>mean</th>\n",
       "      <td>0.049099</td>\n",
       "    </tr>\n",
       "    <tr>\n",
       "      <th>std</th>\n",
       "      <td>0.207369</td>\n",
       "    </tr>\n",
       "    <tr>\n",
       "      <th>min</th>\n",
       "      <td>0.000000</td>\n",
       "    </tr>\n",
       "    <tr>\n",
       "      <th>25%</th>\n",
       "      <td>0.000000</td>\n",
       "    </tr>\n",
       "    <tr>\n",
       "      <th>50%</th>\n",
       "      <td>0.000000</td>\n",
       "    </tr>\n",
       "    <tr>\n",
       "      <th>75%</th>\n",
       "      <td>0.020000</td>\n",
       "    </tr>\n",
       "    <tr>\n",
       "      <th>max</th>\n",
       "      <td>2.620000</td>\n",
       "    </tr>\n",
       "  </tbody>\n",
       "</table>\n",
       "</div>"
      ],
      "text/plain": [
       "             Prcp\n",
       "count  355.000000\n",
       "mean     0.049099\n",
       "std      0.207369\n",
       "min      0.000000\n",
       "25%      0.000000\n",
       "50%      0.000000\n",
       "75%      0.020000\n",
       "max      2.620000"
      ]
     },
     "execution_count": 18,
     "metadata": {},
     "output_type": "execute_result"
    }
   ],
   "source": [
    "#get the summary statistics for precipitation\n",
    "summary = sort['Prcp'].describe()\n",
    "\n",
    "#create DataFrame for summary statistics\n",
    "summary_df=pd.DataFrame(summary)\n",
    "summary_df"
   ]
  },
  {
   "cell_type": "code",
   "execution_count": 20,
   "id": "feb2eaef-00e7-457f-adf6-9eb04da63220",
   "metadata": {},
   "outputs": [
    {
     "data": {
      "text/plain": [
       "9"
      ]
     },
     "execution_count": 20,
     "metadata": {},
     "output_type": "execute_result"
    }
   ],
   "source": [
    "#total number of stations within the dataset\n",
    "count = session.query(station.station).count()\n",
    "count"
   ]
  },
  {
   "cell_type": "code",
   "execution_count": 21,
   "id": "e16a54aa-4948-4cef-bdb6-4f8c411d8748",
   "metadata": {},
   "outputs": [
    {
     "data": {
      "text/plain": [
       "[('USC00519281', 2772),\n",
       " ('USC00519397', 2724),\n",
       " ('USC00513117', 2709),\n",
       " ('USC00519523', 2669),\n",
       " ('USC00516128', 2612),\n",
       " ('USC00514830', 2202),\n",
       " ('USC00511918', 1979),\n",
       " ('USC00517948', 1372),\n",
       " ('USC00518838', 511)]"
      ]
     },
     "execution_count": 21,
     "metadata": {},
     "output_type": "execute_result"
    }
   ],
   "source": [
    "#find the most active stations and list stations and observation counts in descending order\n",
    "total_count = session.query(measure.station,func.count(measure.station)).group_by(measure.station).order_by(func.count(measure.station).desc()).all()\n",
    "total_count"
   ]
  },
  {
   "cell_type": "code",
   "execution_count": 22,
   "id": "b2b989c7-0a49-4bc2-86f2-9aa3840ffae3",
   "metadata": {},
   "outputs": [
    {
     "data": {
      "text/plain": [
       "[('USC00519281', 54.0)]"
      ]
     },
     "execution_count": 22,
     "metadata": {},
     "output_type": "execute_result"
    }
   ],
   "source": [
    "#find the lowest temperature for the most active station\n",
    "low = session.query(measure.station,func.min(measure.tobs)).filter(measure.station == 'USC00519281').all()\n",
    "low\n"
   ]
  },
  {
   "cell_type": "code",
   "execution_count": 23,
   "id": "9e6bf00c-1af6-42b5-88f3-571537aa83f3",
   "metadata": {},
   "outputs": [
    {
     "data": {
      "text/plain": [
       "[('USC00519281', 85.0)]"
      ]
     },
     "execution_count": 23,
     "metadata": {},
     "output_type": "execute_result"
    }
   ],
   "source": [
    "#find the highest temperature for the most active station\n",
    "high = session.query(measure.station,func.max(measure.tobs)).filter(measure.station == 'USC00519281').all()\n",
    "high"
   ]
  },
  {
   "cell_type": "code",
   "execution_count": 24,
   "id": "631006eb-37e8-44e5-b242-19f13b6d8956",
   "metadata": {},
   "outputs": [
    {
     "data": {
      "text/plain": [
       "[('USC00519281', 71.66378066378067)]"
      ]
     },
     "execution_count": 24,
     "metadata": {},
     "output_type": "execute_result"
    }
   ],
   "source": [
    "#find the average temperature for the most active station\n",
    "average = session.query(measure.station,func.avg(measure.tobs)).filter(measure.station == 'USC00519281').all()\n",
    "average"
   ]
  },
  {
   "cell_type": "code",
   "execution_count": null,
   "id": "0f19ccfc-7a88-464e-ba49-786a983d5fdb",
   "metadata": {},
   "outputs": [],
   "source": [
    "#filter by the station with the highest observation & query the previous 12 months of temperature observation data (TOBS)\n",
    "filter_ = session.query(measure.station,measure.date,measure.tobs).\\\n",
    "          filter(measure.station == 'USC00519281').\\\n",
    "          filter(measure.date >= '2016-09-01').\\\n",
    "          order_by(measure.date.desc()).all()\n",
    "filter_"
   ]
  },
  {
   "cell_type": "code",
   "execution_count": 26,
   "id": "abc13b21-5e44-440d-b66a-d0914586e280",
   "metadata": {},
   "outputs": [],
   "source": [
    "#create a dataframe for the query\n",
    "tobs_df = pd.DataFrame(filter_)\n"
   ]
  },
  {
   "cell_type": "code",
   "execution_count": 27,
   "id": "a6b5e0ba-bc64-4a12-9669-3e7d99df9479",
   "metadata": {},
   "outputs": [],
   "source": [
    "#rename columns for the dataframe \n",
    "columns = tobs_df.rename(columns = {0:'Station',1:'Date',2:'Tobs'})\n"
   ]
  },
  {
   "cell_type": "code",
   "execution_count": 28,
   "id": "21b84be0-16af-48d1-8c0a-0527d388f021",
   "metadata": {},
   "outputs": [
    {
     "data": {
      "image/png": "[encoded data removed]",
      "text/plain": [
       "<Figure size 1080x720 with 1 Axes>"
      ]
     },
     "metadata": {},
     "output_type": "display_data"
    }
   ],
   "source": [
    "#Plot the results as a histogram with bins=12\n",
    "plot = columns['Tobs']\n",
    "\n",
    "plt.hist(plot,bins=12,label='Tobs')\n",
    "plt.legend()\n",
    "\n",
    "plt.xticks(fontsize=11)\n",
    "plt.legend()\n",
    "plt.xlabel('Temperature', fontsize=15, labelpad=35)\n",
    "plt.ylabel('Frequency', fontsize=15, labelpad=35)\n",
    "\n",
    "fig = plt.gcf()\n",
    "fig.set_size_inches(15,10)\n",
    "plt.show()"
   ]
  },
  {
   "cell_type": "code",
   "execution_count": 29,
   "id": "ff52a26f-78fd-4b81-9587-d3afd0045061",
   "metadata": {},
   "outputs": [],
   "source": [
    "session.close()"
   ]
  }
 ],
 "metadata": {
  "kernelspec": {
   "display_name": "Python 3 (ipykernel)",
   "language": "python",
   "name": "python3"
  },
  "language_info": {
   "codemirror_mode": {
    "name": "ipython",
    "version": 3
   },
   "file_extension": ".py",
   "mimetype": "text/x-python",
   "name": "python",
   "nbconvert_exporter": "python",
   "pygments_lexer": "ipython3",
   "version": "3.9.7"
  }
 },
 "nbformat": 4,
 "nbformat_minor": 5
}
